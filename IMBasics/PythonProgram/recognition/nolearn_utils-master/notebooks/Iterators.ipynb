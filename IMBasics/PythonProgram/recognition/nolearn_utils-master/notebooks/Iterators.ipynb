{
 "cells": [
  {
   "cell_type": "code",
   "execution_count": 1,
   "metadata": {
    "collapsed": true
   },
   "outputs": [],
   "source": [
    "%load_ext autoreload\n",
    "%autoreload 2"
   ]
  },
  {
   "cell_type": "code",
   "execution_count": 157,
   "metadata": {
    "collapsed": true
   },
   "outputs": [],
   "source": [
    "%matplotlib inline\n",
    "\n",
    "import matplotlib.pyplot as plt\n",
    "import numpy as np\n",
    "import pandas as pd\n",
    "\n",
    "from skimage.data import lena\n",
    "\n",
    "from skimage.filters.rank import equalize\n",
    "from skimage.morphology import disk\n",
    "\n",
    "from nolearn_utils.iterators import (\n",
    "    make_iterator,\n",
    "    BufferedBatchIteratorMixin,\n",
    "    LCNBatchIteratorMixin,\n",
    "    AffineTransformBatchIteratorMixin,\n",
    "    ShuffleBatchIteratorMixin\n",
    ")\n",
    "\n",
    "from joblib import Parallel, delayed"
   ]
  },
  {
   "cell_type": "code",
   "execution_count": 16,
   "metadata": {
    "collapsed": false
   },
   "outputs": [],
   "source": [
    "# def parallelize_map(func, arr, n_jobs=1, *args, **kwargs):\n",
    "#     return Parallel(n_jobs)(delayed(func)(x, *args, **kwargs) for x in arr)\n",
    "\n",
    "# arr = np.arange(0, 10)\n",
    "# def multiply(x, factor=2):\n",
    "#     return x * factor\n",
    "# parallelize_map(multiply, arr)"
   ]
  },
  {
   "cell_type": "code",
   "execution_count": 207,
   "metadata": {
    "collapsed": false
   },
   "outputs": [],
   "source": [
    "y = np.repeat([0, 0, 0, 0, 0, 0, 0, 0, 0, 0, 0, 0, 0, 0, 0, 0, 0, 0, 0, 1, 1, 2, 2, 3, 4], 100)\n",
    "X = np.arange(len(y))\n",
    "target_size = np.bincount(y).min()\n",
    "mask = np.zeros_like(y, dtype=bool)\n",
    "for yval in np.unique(y):\n",
    "    mask[random.sample(np.where(y == yval)[0], target_size)] = True"
   ]
  },
  {
   "cell_type": "code",
   "execution_count": 261,
   "metadata": {
    "collapsed": true
   },
   "outputs": [],
   "source": [
    "class RebalanceBatchIteratorMixin(object):\n",
    "    def __call__(self, X, y):\n",
    "        super(RebalanceBatchIteratorMixin, self).__call__(X, y)\n",
    "        assert y.ndim == 1\n",
    "        X, y = self.X, self.y\n",
    "        target_size = np.bincount(y).min()\n",
    "        mask = np.zeros_like(y, dtype=bool)\n",
    "        for yval in np.unique(y):\n",
    "            mask[random.sample(np.where(y == yval)[0], target_size)] = True\n",
    "        self.X, self.y = X[mask], y[mask]"
   ]
  },
  {
   "cell_type": "code",
   "execution_count": 235,
   "metadata": {
    "collapsed": false
   },
   "outputs": [],
   "source": [
    "mixins = [\n",
    "    RebalanceBatchIteratorMixin,\n",
    "    ShuffleBatchIteratorMixin\n",
    "]\n",
    "\n",
    "Iterator = make_iterator('Iterator', mixins)\n",
    "\n",
    "# x = np.expand_dims(lena(), 3)\n",
    "# X = np.tile(x, 64).transpose(3, 2, 0, 1).astype(float) / 255\n",
    "# y = np.random.random(64) * 100\n",
    "# y = y.astype(np.int32)\n",
    "\n",
    "y = np.repeat([0, 0, 0, 0, 1, 1, 2, 2, 3, 4], 500)\n",
    "X = np.arange(len(y))\n",
    "# print X.shape, y.shape\n",
    "\n",
    "iterator = Iterator(\n",
    "    batch_size=16,\n",
    "#     n_jobs=8,\n",
    "#     affine_p=1,\n",
    "#     affine_scale_choices=np.linspace(0.75, 1.25, 5),\n",
    "#     affine_translation_choices=np.arange(-24, 24, 4),\n",
    "#     affine_rotation_choices=np.arange(-90, 90, 5),\n",
    ")\n",
    "iterator(X, y)\n",
    "gen = iter(iterator)"
   ]
  },
  {
   "cell_type": "code",
   "execution_count": 259,
   "metadata": {
    "collapsed": false
   },
   "outputs": [
    {
     "data": {
      "text/plain": [
       "array([1, 3, 1, ..., 1, 2, 1])"
      ]
     },
     "execution_count": 259,
     "metadata": {},
     "output_type": "execute_result"
    }
   ],
   "source": [
    "iterator.y"
   ]
  },
  {
   "cell_type": "code",
   "execution_count": 256,
   "metadata": {
    "collapsed": false,
    "scrolled": false
   },
   "outputs": [
    {
     "name": "stdout",
     "output_type": "stream",
     "text": [
      "[4612  447 4762   75 4456 4154 3044  735 4260 4014 2911  243 4551 4526   28\n",
      " 3373]\n",
      "[4 0 4 0 3 3 2 0 3 3 1 0 4 4 0 2]\n",
      "[5 1 2 4 4]\n",
      "CPU times: user 2.18 ms, sys: 0 ns, total: 2.18 ms\n",
      "Wall time: 1.07 ms\n"
     ]
    }
   ],
   "source": [
    "%%time\n",
    "Xb, yb = gen.next()\n",
    "\n",
    "print Xb\n",
    "print yb\n",
    "print np.bincount(yb)"
   ]
  }
 ],
 "metadata": {
  "kernelspec": {
   "display_name": "Python 2",
   "language": "python",
   "name": "python2"
  },
  "language_info": {
   "codemirror_mode": {
    "name": "ipython",
    "version": 2
   },
   "file_extension": ".py",
   "mimetype": "text/x-python",
   "name": "python",
   "nbconvert_exporter": "python",
   "pygments_lexer": "ipython2",
   "version": "2.7.10"
  }
 },
 "nbformat": 4,
 "nbformat_minor": 0
}
